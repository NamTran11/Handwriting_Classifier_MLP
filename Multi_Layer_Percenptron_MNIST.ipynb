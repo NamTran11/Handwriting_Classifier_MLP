{
 "cells": [
  {
   "cell_type": "markdown",
   "metadata": {},
   "source": [
    "## Multi Layer Perceptron MNIST"
   ]
  },
  {
   "cell_type": "code",
   "execution_count": 1,
   "metadata": {},
   "outputs": [],
   "source": [
    "from mnist import MNIST\n",
    "import random\n",
    "import numpy as np\n",
    "import matplotlib.pyplot as plt\n",
    "mndata = MNIST('samples')\n",
    "\n",
    "def convert_all_label(Labels):\n",
    "    l = len(Labels)\n",
    "    target = np.zeros((10,l),dtype=float)\n",
    "    for i in range(l):\n",
    "        m = Labels[i]\n",
    "        target[m,i] = 1.\n",
    "    return target\n",
    "def convert_a_label(value):\n",
    "    target = np.zeros((10,1),dtype=float)\n",
    "    target[value]=1.\n",
    "    return target\n",
    "def softmax(V):\n",
    "    # tru cho np.max de chống tràn số khi số mũ quá lớn\n",
    "    e_V = np.exp(V - np.max(V, axis = 0, keepdims = True))\n",
    "    Z = e_V / e_V.sum(axis = 0)\n",
    "    return Z"
   ]
  },
  {
   "cell_type": "code",
   "execution_count": 175,
   "metadata": {},
   "outputs": [],
   "source": [
    "images_train, labels_train = mndata.load_training()\n",
    "images_test, labels_test = mndata.load_testing()"
   ]
  },
  {
   "cell_type": "code",
   "execution_count": 176,
   "metadata": {},
   "outputs": [
    {
     "name": "stdout",
     "output_type": "stream",
     "text": [
      "60000\n"
     ]
    },
    {
     "data": {
      "image/png": "[encoded data removed]",
      "text/plain": [
       "<Figure size 432x288 with 1 Axes>"
      ]
     },
     "metadata": {},
     "output_type": "display_data"
    }
   ],
   "source": [
    "plt.imshow(np.reshape(images_train[0],(28,28)),cmap='Greys')\n",
    "convert_a_label(labels_train[0])\n",
    "print(len(images_train))"
   ]
  },
  {
   "cell_type": "code",
   "execution_count": 294,
   "metadata": {},
   "outputs": [],
   "source": [
    "n_input = 784\n",
    "n_output = 10\n",
    "n_hidden_1 = 256\n",
    "n_hidden_2 = 256\n",
    "\n",
    "training_epochs = 15\n",
    "batch_size = 50     #100\n",
    "learning_rate = 0.01\n",
    "N = len(images_train)\n",
    "total_batch = int(N/batch_size) # per loop\n",
    "\n",
    "weights = {\n",
    "    'w1':0.01*np.random.randn(n_input,n_hidden_1),\n",
    "    'w2':0.01*np.random.randn(n_hidden_1,n_hidden_2),\n",
    "    'out':0.01*np.random.randn(n_hidden_2,n_output)\n",
    "}\n",
    "biases = {\n",
    "\n",
    "    'b1':np.zeros((n_hidden_1,1)),\n",
    "    'b2':np.zeros((n_hidden_2,1)),\n",
    "    'out':np.zeros((n_output,1))\n",
    "}\n"
   ]
  },
  {
   "cell_type": "code",
   "execution_count": 169,
   "metadata": {},
   "outputs": [],
   "source": []
  },
  {
   "cell_type": "markdown",
   "metadata": {},
   "source": [
    "### Training mini-BGD"
   ]
  },
  {
   "cell_type": "code",
   "execution_count": 295,
   "metadata": {},
   "outputs": [],
   "source": [
    "\n",
    "\n",
    "for it in range(training_epochs):\n",
    "    rd_id = np.random.permutation(N)\n",
    "    for i in range(total_batch):\n",
    "        #get batch (100 element random )\n",
    "        X = [images_train[j] for j in rd_id[i*batch_size:(i+1)*batch_size]] #batch_size*784\n",
    "        Y = [labels_train[j] for j in rd_id[i*batch_size:(i+1)*batch_size]] #batch_size*1\n",
    "        Y = convert_all_label(Y) #10*100\n",
    "        \n",
    "        X = np.asarray(X) #batch_size*n_input\n",
    "        Y = np.asarray(Y) #n_output*batch_size\n",
    "        \n",
    "        #caculator L1 L2 L_out\n",
    "        Z1 = np.dot(weights['w1'].T,X.T)+biases['b1']         # n_hidden_1*batch_size\n",
    "        Layer_1 = np.maximum(Z1,0)                            # n_hidden_1*batch_size\n",
    "        Z2 = np.dot(weights['w2'].T,Layer_1)+biases['b2']     # n_hidden_2*batch_size\n",
    "        Layer_2 = np.maximum(Z2,0)                            # n_hidden_2*batch_size\n",
    "        Zout = np.dot(weights['out'].T,Layer_2)+biases['out'] # n_output*batch_size \n",
    "        Yhat = softmax(Zout)                                  # n_output*batch_size\n",
    "        \n",
    "        #  backpropagation\n",
    "        E_out = (Yhat-Y)/batch_size                           # n_output*batch_size\n",
    "        dW_out = np.dot(Layer_2,E_out.T)                      # n_hiddent_2*output\n",
    "        db_out = np.sum(E_out, axis = 1, keepdims = True)     #\n",
    "        \n",
    "        E_2 = np.dot(weights['out'],E_out)                     # n_hiden_2*batch_size\n",
    "        E_2[Layer_2<=0] = 0 # gradient of ReLU\n",
    "        dW_2 = np.dot(Layer_1,E_2.T)\n",
    "        db_2 = np.sum(E_2, axis = 1, keepdims = True)\n",
    "        \n",
    "        E_1 = np.dot(weights['w2'],E_2)                     # n_hiden_1*batch_size\n",
    "        E_1[Layer_1<=0] = 0                                 # gradient of ReLU\n",
    "        dW_1 = np.dot(X.T,E_1.T)                            # n_input*n_hidden_1\n",
    "        db_1 = np.sum(E_1, axis = 1, keepdims = True)       # n_hidden_1\n",
    "        \n",
    "        #update weights and bias\n",
    "        weights['out'] += -learning_rate*dW_out\n",
    "        weights['w2'] += -learning_rate*dW_2\n",
    "        weights['w1'] += -learning_rate*dW_1\n",
    "        biases['out'] += -learning_rate*db_out\n",
    "        biases['b2'] += -learning_rate*db_2\n",
    "        biases['b1'] += -learning_rate*db_1\n",
    "        \n",
    "        "
   ]
  },
  {
   "cell_type": "markdown",
   "metadata": {},
   "source": [
    "### Model Evaluation"
   ]
  },
  {
   "cell_type": "code",
   "execution_count": 291,
   "metadata": {},
   "outputs": [],
   "source": [
    "images_test, labels_test = mndata.load_testing()\n",
    "#labels_test = np.reshape(labels_test,(10000,1))\n",
    "images_test = np.asarray(images_test)\n",
    "#labels_test = np.asarray(labels_test)"
   ]
  },
  {
   "cell_type": "code",
   "execution_count": 299,
   "metadata": {},
   "outputs": [
    {
     "name": "stdout",
     "output_type": "stream",
     "text": [
      "[1]\n",
      "1\n"
     ]
    }
   ],
   "source": [
    "def testing_sigle_value(temp):\n",
    "    temp = np.asarray(temp)\n",
    "    np.reshape(temp,(784,1))\n",
    "    Z1_temp = np.dot(weights['w1'].T,temp)+biases['b1']#256*784\n",
    "    Layer1_temp = np.maximum(Z1_temp,0)\n",
    "    Z2_temp = np.dot(weights['w2'].T,Layer1_temp)+biases['b2']#256*1\n",
    "    Layer2_temp = np.maximum(Z2_temp,0)\n",
    "    Zout_temp = np.dot(weights['out'].T,Layer2_temp)+biases['out'] #10*1\n",
    "    predict_class = np.argmax(Zout_temp,axis=1)\n",
    "    return Zout_temp\n",
    "\n",
    "#print(images_test[0])\n",
    "#print(labels_test.shape)\n",
    "it = 14\n",
    "k = np.asarray(images_test[it])\n",
    "t = testing_sigle_value(np.reshape(k,(784,1)))\n",
    "print(np.argmax(t,axis=0))\n",
    "print(labels_test[it])\n",
    "#labels_test[0]\n",
    "#labels_test[1]"
   ]
  },
  {
   "cell_type": "code",
   "execution_count": null,
   "metadata": {},
   "outputs": [],
   "source": []
  },
  {
   "cell_type": "code",
   "execution_count": 302,
   "metadata": {},
   "outputs": [
    {
     "name": "stdout",
     "output_type": "stream",
     "text": [
      "precdic correct  98.63 %\n"
     ]
    }
   ],
   "source": [
    "Z1_temp = np.dot(weights['w1'].T,images_test.T)+biases['b1']\n",
    "Layer1_temp = np.maximum(Z1_temp,0)\n",
    "Z2_temp = np.dot(weights['w2'].T,Layer1_temp)+biases['b2']\n",
    "Layer2_temp = np.maximum(Z2_temp,0)\n",
    "Zout_temp = np.dot(weights['out'].T,Layer2_temp)+biases['out']\n",
    "predict_class = np.argmax(Zout_temp,axis=0)\n",
    "acc = (100*np.mean(predict_class==labels_test))\n",
    "print('precdic correct  %.2f %%' % acc )\n"
   ]
  },
  {
   "cell_type": "code",
   "execution_count": 305,
   "metadata": {},
   "outputs": [],
   "source": [
    "import pickle\n",
    "data = {'weights':weights,'biases':biases}\n",
    "pickle_write = open(\"data.pkl\",\"wb\")\n",
    "pickle.dump(data,pickle_write)\n",
    "pickle_write.close()"
   ]
  },
  {
   "cell_type": "code",
   "execution_count": 13,
   "metadata": {},
   "outputs": [
    {
     "data": {
      "text/plain": [
       "0"
      ]
     },
     "execution_count": 13,
     "metadata": {},
     "output_type": "execute_result"
    }
   ],
   "source": [
    "a = np.array([9, 4, 4, 3, 3, 9, 0, 4, 6, 0])\n",
    "ind = np.argpartition(a, -2)[-2:]\n",
    "ind[1]"
   ]
  }
 ],
 "metadata": {
  "kernelspec": {
   "display_name": "Python 3",
   "language": "python",
   "name": "python3"
  },
  "language_info": {
   "codemirror_mode": {
    "name": "ipython",
    "version": 3
   },
   "file_extension": ".py",
   "mimetype": "text/x-python",
   "name": "python",
   "nbconvert_exporter": "python",
   "pygments_lexer": "ipython3",
   "version": "3.6.6rc1"
  }
 },
 "nbformat": 4,
 "nbformat_minor": 2
}
